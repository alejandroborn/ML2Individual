{
 "cells": [
  {
   "cell_type": "markdown",
   "id": "f9edc5e6",
   "metadata": {},
   "source": [
    "# Credit Card Fraud Detection with Logistic Regression"
   ]
  },
  {
   "cell_type": "markdown",
   "id": "408450af",
   "metadata": {},
   "source": [
    "### 1. Dataset Overview\n",
    "This dataset contains transaction details including 28 anonymized features (V1-V28), time, amount, and a binary target column (`Class`)."
   ]
  },
  {
   "cell_type": "code",
   "execution_count": 4,
   "id": "288cc69f",
   "metadata": {},
   "outputs": [
    {
     "data": {
      "text/plain": [
       "['scaler.pkl']"
      ]
     },
     "execution_count": 4,
     "metadata": {},
     "output_type": "execute_result"
    }
   ],
   "source": [
    "\n",
    "# Load the dataset and libraries\n",
    "import pandas as pd\n",
    "from sklearn.model_selection import train_test_split\n",
    "from sklearn.preprocessing import StandardScaler\n",
    "from sklearn.linear_model import LogisticRegression\n",
    "from sklearn.metrics import classification_report, roc_auc_score, confusion_matrix\n",
    "import joblib\n",
    "\n",
    "# Load dataset\n",
    "file_path = 'creditcard.csv'\n",
    "data = pd.read_csv(file_path)\n",
    "\n",
    "# Target variable and feature scaling\n",
    "scaler = StandardScaler()\n",
    "target = 'Class'\n",
    "X = data.drop(columns=[target])\n",
    "y = data[target]\n",
    "X['Amount'] = scaler.fit_transform(X[['Amount']])\n",
    "\n",
    "# Save the scaler for later use\n",
    "scaler_path = \"scaler.pkl\"\n",
    "joblib.dump(scaler, scaler_path)\n",
    "    "
   ]
  },
  {
   "cell_type": "markdown",
   "id": "77a0c328",
   "metadata": {},
   "source": [
    "### 2. Data Sampling for Performance\n",
    "We sample 20,000 rows due to computational constraints. This will be enough however to train our model propperly."
   ]
  },
  {
   "cell_type": "code",
   "execution_count": 7,
   "id": "d22177e0",
   "metadata": {},
   "outputs": [],
   "source": [
    "\n",
    "# Sample dataset\n",
    "subset_size = 20000\n",
    "data_subset = data.sample(n=subset_size, random_state=42)\n",
    "X_subset = data_subset.drop(columns=[target])\n",
    "y_subset = data_subset[target]\n",
    "X_subset['Amount'] = scaler.fit_transform(X_subset[['Amount']])\n",
    "\n",
    "# Train-test split\n",
    "X_train, X_test, y_train, y_test = train_test_split(\n",
    "    X_subset, y_subset, test_size=0.2, random_state=42, stratify=y_subset\n",
    ")\n",
    "    "
   ]
  },
  {
   "cell_type": "markdown",
   "id": "92d89f21",
   "metadata": {},
   "source": [
    "### 3. Model Training and Evaluation"
   ]
  },
  {
   "cell_type": "code",
   "execution_count": 6,
   "id": "3aa8a41b",
   "metadata": {},
   "outputs": [
    {
     "name": "stdout",
     "output_type": "stream",
     "text": [
      "ROC-AUC Score: 0.9555715304252523\n",
      "Classification Report: {'0': {'precision': 0.9996886351842241, 'recall': 0.96484022838826, 'f1-score': 0.9819553471301865, 'support': 9983}, '1': {'precision': 0.038356164383561646, 'recall': 0.8235294117647058, 'f1-score': 0.07329842931937172, 'support': 17}, 'accuracy': 0.9646, 'macro avg': {'precision': 0.5190223997838929, 'recall': 0.8941848200764829, 'f1-score': 0.5276268882247791, 'support': 10000}, 'weighted avg': {'precision': 0.998054369983863, 'recall': 0.9646, 'f1-score': 0.9804106303699082, 'support': 10000}}\n",
      "Confusion Matrix: [[9632  351]\n",
      " [   3   14]]\n",
      "Scaler saved to scaler.pkl\n",
      "Model saved to logistic_model.pkl\n"
     ]
    }
   ],
   "source": [
    "\n",
    "# Train logistic regression model\n",
    "logistic_model = LogisticRegression(max_iter=1000, class_weight='balanced', random_state=42)\n",
    "logistic_model.fit(X_train, y_train)\n",
    "\n",
    "# Evaluate the model\n",
    "y_pred = logistic_model.predict(X_test)\n",
    "y_pred_proba = logistic_model.predict_proba(X_test)[:, 1]\n",
    "classification_metrics = classification_report(y_test, y_pred, output_dict=True)\n",
    "roc_auc = roc_auc_score(y_test, y_pred_proba)\n",
    "conf_matrix = confusion_matrix(y_test, y_pred)\n",
    "\n",
    "print(f\"ROC-AUC Score: {roc_auc}\")\n",
    "print(f\"Classification Report: {classification_metrics}\")\n",
    "print(f\"Confusion Matrix: {conf_matrix}\")\n",
    "\n",
    "# Save the trained model\n",
    "model_path = \"logistic_model.pkl\"\n",
    "joblib.dump(logistic_model, model_path)\n",
    "\n",
    "print(f\"Scaler saved to {scaler_path}\")\n",
    "print(f\"Model saved to {model_path}\")"
   ]
  }
 ],
 "metadata": {
  "kernelspec": {
   "display_name": "base",
   "language": "python",
   "name": "python3"
  },
  "language_info": {
   "codemirror_mode": {
    "name": "ipython",
    "version": 3
   },
   "file_extension": ".py",
   "mimetype": "text/x-python",
   "name": "python",
   "nbconvert_exporter": "python",
   "pygments_lexer": "ipython3",
   "version": "3.11.5"
  }
 },
 "nbformat": 4,
 "nbformat_minor": 5
}
